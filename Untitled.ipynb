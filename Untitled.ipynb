{
 "cells": [
  {
   "cell_type": "code",
   "execution_count": 1,
   "id": "welsh-verse",
   "metadata": {},
   "outputs": [],
   "source": [
    "#data manipulation/visualization libraries\n",
    "import pandas as pd\n",
    "import numpy as np\n",
    "from matplotlib import pyplot as plt\n",
    "import scikitplot as skplt\n",
    "import seaborn as sns\n",
    "import pickle \n",
    "import os\n",
    "\n",
    "#model modules\n",
    "from sklearn.linear_model import LogisticRegression\n",
    "from sklearn.tree import DecisionTreeClassifier\n",
    "from sklearn.ensemble import AdaBoostClassifier\n",
    "from sklearn.ensemble import RandomForestClassifier\n",
    "from xgboost import XGBClassifier, plot_tree\n",
    "\n",
    "#data optimization modules\n",
    "from sklearn.model_selection import train_test_split\n",
    "from sklearn.model_selection import GridSearchCV\n",
    "\n",
    "\n",
    "#metric modules\n",
    "from sklearn.metrics import classification_report, f1_score, roc_auc_score, roc_curve, recall_score \n",
    "from sklearn.metrics import precision_score, confusion_matrix, precision_recall_curve"
   ]
  },
  {
   "cell_type": "code",
   "execution_count": null,
   "id": "original-resistance",
   "metadata": {},
   "outputs": [],
   "source": [
    "#load data\n",
    "\n",
    "df = pd.read_csv(\"feature_engineered_df.csv\")\n",
    "df.head()\n",
    "\n",
    "#split parameters from target\n",
    "X, y = df.iloc[:,:16], df.iloc[:,-1]\n",
    "\n",
    "#split test data from validation/data\n",
    "X_val, X_test, y_val, y_test = train_test_split(X,y, test_size=.2, random_state=42, stratify=y)\n",
    "\n",
    "#do one more split so we have portion of training data predict for validation\n",
    "X_train, X_val_test, y_train, y_val_test = train_test_split(X_val, y_val, test_size=.1, random_state=21, stratify=y_val)"
   ]
  }
 ],
 "metadata": {
  "kernelspec": {
   "display_name": "Python 3",
   "language": "python",
   "name": "python3"
  },
  "language_info": {
   "codemirror_mode": {
    "name": "ipython",
    "version": 3
   },
   "file_extension": ".py",
   "mimetype": "text/x-python",
   "name": "python",
   "nbconvert_exporter": "python",
   "pygments_lexer": "ipython3",
   "version": "3.7.7"
  }
 },
 "nbformat": 4,
 "nbformat_minor": 5
}
